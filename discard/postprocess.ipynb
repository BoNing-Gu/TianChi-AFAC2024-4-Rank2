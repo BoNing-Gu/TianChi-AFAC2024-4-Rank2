{
 "cells": [
  {
   "cell_type": "code",
   "id": "initial_id",
   "metadata": {
    "collapsed": true,
    "ExecuteTime": {
     "end_time": "2024-07-30T12:35:34.682698Z",
     "start_time": "2024-07-30T12:35:30.324717Z"
    }
   },
   "source": [
    "import os\n",
    "import torch\n",
    "import time\n",
    "import json\n",
    "import csv\n",
    "import shutil\n",
    "import pandas as pd\n",
    "import argparse\n",
    "import jieba\n",
    "jieba.load_userdict('dic.txt')\n",
    "from openai import OpenAI\n",
    "from utils import (read_docx_files, process_docx_files_2_para, process_docx_files_2_sents, process_docx_files_sents_2_longer, process_docx_files_year,\n",
    "                   extract_context, clean_json_delimiters, process_docx_files_2_sents_WithNum, tender_document, tender_document_2_para, split_sentences)\n",
    "from check_duplicate_in_sent import detect_duplicate_phrases, longest_string"
   ],
   "outputs": [
    {
     "name": "stderr",
     "output_type": "stream",
     "text": [
      "Building prefix dict from the default dictionary ...\n",
      "Loading model from cache C:\\Users\\admin\\AppData\\Local\\Temp\\jieba.cache\n",
      "Loading model cost 0.386 seconds.\n",
      "Prefix dict has been built successfully.\n"
     ]
    }
   ],
   "execution_count": 1
  },
  {
   "metadata": {},
   "cell_type": "code",
   "outputs": [],
   "execution_count": null,
   "source": [
    "from sentence_transformers.util import cos_sim  \n",
    "from sentence_transformers import SentenceTransformer as SBert\n",
    "model = SBert('paraphrase-multilingual-MiniLM-L12-v2')"
   ],
   "id": "48935fc46268d150"
  },
  {
   "metadata": {
    "ExecuteTime": {
     "end_time": "2024-07-31T07:17:58.129582Z",
     "start_time": "2024-07-31T07:17:58.117299Z"
    }
   },
   "cell_type": "code",
   "source": "version = 'final-1'",
   "id": "a3dfc54988f3ff28",
   "outputs": [],
   "execution_count": 11
  },
  {
   "metadata": {
    "ExecuteTime": {
     "end_time": "2024-07-30T12:47:23.618600Z",
     "start_time": "2024-07-30T12:47:23.599472Z"
    }
   },
   "cell_type": "code",
   "source": [
    "type1_1 = pd.read_excel(f'../answer_{version}-副本/answers_type1-常识错误-不未错误-备份.xlsx')\n",
    "type1_1 = type1_1.drop_duplicates(subset=['id', 'sent_id'], keep='last').reset_index(drop=True)\n",
    "white_list_id = ['新能源']\n",
    "white_list_in = ['用人单位', '信用中国', '未划分标包']\n",
    "type1_1 = type1_1[~type1_1['id'].str.contains('|'.join(white_list_id))]\n",
    "type1_1 = type1_1[~type1_1['sent'].str.contains('|'.join(white_list_in))]"
   ],
   "id": "a33cbeefb21c8f26",
   "outputs": [],
   "execution_count": 3
  },
  {
   "metadata": {
    "ExecuteTime": {
     "end_time": "2024-07-31T07:11:09.925357Z",
     "start_time": "2024-07-31T07:11:09.901146Z"
    }
   },
   "cell_type": "code",
   "source": [
    "type1_2 = pd.read_excel(f'../answer_{version}-副本/answers_type1-常识错误-时间错误-OnlyTime-备份.xlsx')\n",
    "white_list_id = ['审计法', '保险', '化工行业周报', '平安', '玉门油田', '电力', '西南']\n",
    "white_list_in = ['招标文件', '5个工作日', '天然气', '投标文件递交', '估算金额', '网上开标', '招标文件的获取', '票房', '五一', 'Q1', '编号', '招标公告', '有效期', '货代', '预算管理', '电子', '央行', '23:59']\n",
    "type1_2 = type1_2[~type1_2['id'].str.contains('|'.join(white_list_id))]\n",
    "type1_2 = type1_2[~type1_2['sent'].str.contains('|'.join(white_list_in))]\n",
    "type1_2 = type1_2.reset_index(drop=True)"
   ],
   "id": "3d1fe69354259ca8",
   "outputs": [],
   "execution_count": 10
  },
  {
   "metadata": {
    "ExecuteTime": {
     "end_time": "2024-07-31T07:25:00.839984Z",
     "start_time": "2024-07-31T07:25:00.814778Z"
    }
   },
   "cell_type": "code",
   "source": [
    "type2 = pd.read_excel(f'../answer_{version}-副本/answers_type2-数值单位错误-备份.xlsx')\n",
    "white_list_id = []\n",
    "white_list_in = ['天然气', '吨', '国五', '重卡', 'MW', '标段', '结算', '截止日', '流入', 'PMI', '央行']\n",
    "type1_2 = type1_2[~type1_2['id'].str.contains('|'.join(white_list_id))]\n",
    "type1_2 = type1_2[~type1_2['sent'].str.contains('|'.join(white_list_in))]"
   ],
   "id": "69b68a089f3e3972",
   "outputs": [],
   "execution_count": 12
  },
  {
   "metadata": {
    "ExecuteTime": {
     "end_time": "2024-07-31T07:26:21.419307Z",
     "start_time": "2024-07-31T07:26:21.402153Z"
    }
   },
   "cell_type": "code",
   "source": "type7 = pd.read_excel(f'../answer_{version}-副本/answers_type7-计算错误-备份.xlsx')",
   "id": "edd31ee2cf594cea",
   "outputs": [],
   "execution_count": 13
  },
  {
   "metadata": {
    "ExecuteTime": {
     "end_time": "2024-07-31T07:28:51.140991Z",
     "start_time": "2024-07-31T07:28:51.124804Z"
    }
   },
   "cell_type": "code",
   "source": "type8 = pd.read_excel(f'../answer_{version}-副本/answers_type8-语句机械+大模型-备份.xlsx')",
   "id": "c037bb6e1460ed8b",
   "outputs": [],
   "execution_count": 14
  },
  {
   "metadata": {},
   "cell_type": "code",
   "outputs": [],
   "execution_count": null,
   "source": "",
   "id": "fb5e0a2e3caee84e"
  }
 ],
 "metadata": {
  "kernelspec": {
   "display_name": "Python 3",
   "language": "python",
   "name": "python3"
  },
  "language_info": {
   "codemirror_mode": {
    "name": "ipython",
    "version": 2
   },
   "file_extension": ".py",
   "mimetype": "text/x-python",
   "name": "python",
   "nbconvert_exporter": "python",
   "pygments_lexer": "ipython2",
   "version": "2.7.6"
  }
 },
 "nbformat": 4,
 "nbformat_minor": 5
}
