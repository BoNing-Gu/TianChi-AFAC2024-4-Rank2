{
 "cells": [
  {
   "cell_type": "code",
   "id": "initial_id",
   "metadata": {
    "collapsed": true,
    "ExecuteTime": {
     "end_time": "2024-07-30T12:35:34.682698Z",
     "start_time": "2024-07-30T12:35:30.324717Z"
    }
   },
   "source": [
    "import os\n",
    "import torch\n",
    "import time\n",
    "import json\n",
    "import csv\n",
    "import shutil\n",
    "import pandas as pd\n",
    "import argparse\n",
    "import jieba\n",
    "jieba.load_userdict('dic.txt')\n",
    "from openai import OpenAI\n",
    "from utils import (read_docx_files, process_docx_files_2_para, process_docx_files_2_sents, process_docx_files_sents_2_longer, process_docx_files_year,\n",
    "                   extract_context, clean_json_delimiters, process_docx_files_2_sents_WithNum, tender_document, tender_document_2_para, split_sentences)\n",
    "from check_duplicate_in_sent import detect_duplicate_phrases, longest_string"
   ],
   "outputs": [
    {
     "name": "stderr",
     "output_type": "stream",
     "text": [
      "Building prefix dict from the default dictionary ...\n",
      "Loading model from cache C:\\Users\\admin\\AppData\\Local\\Temp\\jieba.cache\n",
      "Loading model cost 0.386 seconds.\n",
      "Prefix dict has been built successfully.\n"
     ]
    }
   ],
   "execution_count": 1
  },
  {
   "metadata": {},
   "cell_type": "code",
   "outputs": [],
   "execution_count": null,
   "source": [
    "from sentence_transformers.util import cos_sim  \n",
    "from sentence_transformers import SentenceTransformer as SBert\n",
    "model = SBert('paraphrase-multilingual-MiniLM-L12-v2')"
   ],
   "id": "48935fc46268d150"
  },
  {
   "metadata": {
    "ExecuteTime": {
     "end_time": "2024-07-30T12:47:23.618600Z",
     "start_time": "2024-07-30T12:47:23.599472Z"
    }
   },
   "cell_type": "code",
   "source": [
    "type1_1 = pd.read_excel('../answer_final-1-副本/answers_type1-常识错误-不未错误-备份.xlsx')\n",
    "type1_1 = type1_1.drop_duplicates(subset=['id', 'sent_id'], keep='last').reset_index(drop=True)\n",
    "white_list_in = ['用人单位', '信用中国', '未划分标包']\n",
    "type1_1 = type1_1[~type1_1['sent'].str.contains('|'.join(white_list_in))]\n",
    "type1_1 = type1_1[~type1_1['id'].str.startswith('新能源')].reset_index(drop=True)"
   ],
   "id": "a33cbeefb21c8f26",
   "outputs": [],
   "execution_count": 3
  },
  {
   "metadata": {
    "ExecuteTime": {
     "end_time": "2024-07-30T14:55:11.059339Z",
     "start_time": "2024-07-30T14:55:11.034456Z"
    }
   },
   "cell_type": "code",
   "source": [
    "type1_2 = pd.read_excel('../answer_final-1-副本/answers_type1-常识错误-时间错误-备份.xlsx')\n",
    "type1_2 = type1_2[type1_2['possible_error_sent'] != '时间：5个工作日']\n",
    "type1_2 = type1_2[~(type1_2['possible_error_sent'].str.contains('投标文件') & type1_2['sent'].str.contains('2024'))]\n",
    "type1_2 = type1_2[~(type1_2['possible_error_sent'].str.contains('开标') & type1_2['sent'].str.contains('2024'))]\n",
    "type1_2 = type1_2[~(type1_2['possible_error_sent'].str.contains('标书') & type1_2['sent'].str.contains('2024'))]\n",
    "type1_2 = type1_2[~(type1_2['possible_error_sent'].str.contains('原料') & type1_2['sent'].str.contains('2024'))]\n",
    "type1_2 = type1_2[~(type1_2['possible_error_sent'].str.contains('江南') & type1_2['sent'].str.contains('2024'))]\n",
    "type1_2 = type1_2[~(type1_2['sent'].str.contains('2023年') & ~type1_2['sent'].str.contains('0日'))]\n",
    "white_list_in = ['投标有效期', '审计', '预算', 'OPEC', '2021年01月01日', '2021年1月1日', '2024年Q1', '2024年第一季度', '2024年一季度', '2024年五一', '同期相比', '同比', '重卡', '物流', '并网', '投标截止时间', '票房', '传媒', '2019年', '2024年工作会议', '质保期', '投标人提前2日']\n",
    "type1_2 = type1_2[~type1_2['sent'].str.contains('|'.join(white_list_in))]\n",
    "type1_2 = type1_2.reset_index(drop=True)"
   ],
   "id": "2e97d35034f6e88",
   "outputs": [],
   "execution_count": 8
  },
  {
   "metadata": {},
   "cell_type": "code",
   "outputs": [],
   "execution_count": null,
   "source": "",
   "id": "3d1fe69354259ca8"
  }
 ],
 "metadata": {
  "kernelspec": {
   "display_name": "Python 3",
   "language": "python",
   "name": "python3"
  },
  "language_info": {
   "codemirror_mode": {
    "name": "ipython",
    "version": 2
   },
   "file_extension": ".py",
   "mimetype": "text/x-python",
   "name": "python",
   "nbconvert_exporter": "python",
   "pygments_lexer": "ipython2",
   "version": "2.7.6"
  }
 },
 "nbformat": 4,
 "nbformat_minor": 5
}
